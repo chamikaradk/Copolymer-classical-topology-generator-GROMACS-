{
  "nbformat": 4,
  "nbformat_minor": 0,
  "metadata": {
    "colab": {
      "provenance": [],
      "authorship_tag": "ABX9TyOeqECYBRObQL8r8AMa6jGQ",
      "include_colab_link": true
    },
    "kernelspec": {
      "name": "python3",
      "display_name": "Python 3"
    },
    "language_info": {
      "name": "python"
    }
  },
  "cells": [
    {
      "cell_type": "markdown",
      "metadata": {
        "id": "view-in-github",
        "colab_type": "text"
      },
      "source": [
        "<a href=\"https://colab.research.google.com/github/chamikaradk/Copolymer-classical-topology-generatoror-for-MD-simulations/blob/main/Colab_test.ipynb\" target=\"_parent\"><img src=\"https://colab.research.google.com/assets/colab-badge.svg\" alt=\"Open In Colab\"/></a>"
      ]
    },
    {
      "cell_type": "code",
      "execution_count": 1,
      "metadata": {
        "id": "3X4BoBnFGL_2"
      },
      "outputs": [],
      "source": [
        "\n",
        "#Import libraries\n",
        "import numpy as np\n",
        "import pandas as pd\n",
        "import matplotlib.pyplot as plt\n",
        "import seaborn as sns\n",
        "import scipy as sc\n",
        "import matplotlib as mpl\n",
        "import sys\n",
        "import os\n",
        "import matplotlib as mpl\n",
        "import re\n",
        "import glob"
      ]
    },
    {
      "cell_type": "code",
      "source": [
        "#initialize chain\n",
        "chain = [1,1,1,1,0,1,0,1,1,1] # 1 for PEG 0 for alkyl\n",
        "output_itp = 'Outputs/PEG_nmer_mixedchain.itp'\n",
        "chain_string = 'PEG'\n",
        "\n",
        "#gro file INOUTS\n",
        "grofile1 = 'Inputs/N2200_mon.gro'\n",
        "grofile2 = 'Inputs/P-frag-unit.gro'\n",
        "outfile = 'OUtputs/PEG_nmer_mixedchain.gro'\n",
        "X, Y, Z = -1.46, 0.000, 0.000 #dont change for Form I N2200\n",
        "#repeats = 5 #n'mer polymer, extendng from right to left ...."
      ],
      "metadata": {
        "id": "vDMnkqLqGX2o"
      },
      "execution_count": 2,
      "outputs": []
    },
    {
      "cell_type": "code",
      "source": [],
      "metadata": {
        "id": "VZnQjPJAGhOX"
      },
      "execution_count": null,
      "outputs": []
    }
  ]
}